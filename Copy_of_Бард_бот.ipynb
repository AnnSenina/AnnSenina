{
  "nbformat": 4,
  "nbformat_minor": 0,
  "metadata": {
    "colab": {
      "provenance": [],
      "include_colab_link": true
    },
    "kernelspec": {
      "name": "python3",
      "display_name": "Python 3"
    },
    "language_info": {
      "name": "python"
    }
  },
  "cells": [
    {
      "cell_type": "markdown",
      "metadata": {
        "id": "view-in-github",
        "colab_type": "text"
      },
      "source": [
        "<a href=\"https://colab.research.google.com/github/AnnSenina/Other/blob/main/Copy_of_%D0%91%D0%B0%D1%80%D0%B4_%D0%B1%D0%BE%D1%82.ipynb\" target=\"_parent\"><img src=\"https://colab.research.google.com/assets/colab-badge.svg\" alt=\"Open In Colab\"/></a>"
      ]
    },
    {
      "cell_type": "code",
      "execution_count": null,
      "metadata": {
        "colab": {
          "base_uri": "https://localhost:8080/"
        },
        "id": "cSRnCMkBwWe_",
        "outputId": "a2366182-a9ce-4c4f-9d8c-52abbd15ba4e"
      },
      "outputs": [
        {
          "output_type": "stream",
          "name": "stdout",
          "text": [
            "Collecting pytelegrambotapi\n",
            "  Downloading pyTelegramBotAPI-4.14.0.tar.gz (243 kB)\n",
            "\u001b[2K     \u001b[90m━━━━━━━━━━━━━━━━━━━━━━━━━━━━━━━━━━━━━━━━\u001b[0m \u001b[32m243.1/243.1 kB\u001b[0m \u001b[31m2.8 MB/s\u001b[0m eta \u001b[36m0:00:00\u001b[0m\n",
            "\u001b[?25h  Preparing metadata (setup.py) ... \u001b[?25l\u001b[?25hdone\n",
            "Requirement already satisfied: requests in /usr/local/lib/python3.10/dist-packages (from pytelegrambotapi) (2.31.0)\n",
            "Requirement already satisfied: charset-normalizer<4,>=2 in /usr/local/lib/python3.10/dist-packages (from requests->pytelegrambotapi) (3.3.1)\n",
            "Requirement already satisfied: idna<4,>=2.5 in /usr/local/lib/python3.10/dist-packages (from requests->pytelegrambotapi) (3.4)\n",
            "Requirement already satisfied: urllib3<3,>=1.21.1 in /usr/local/lib/python3.10/dist-packages (from requests->pytelegrambotapi) (2.0.7)\n",
            "Requirement already satisfied: certifi>=2017.4.17 in /usr/local/lib/python3.10/dist-packages (from requests->pytelegrambotapi) (2023.7.22)\n",
            "Building wheels for collected packages: pytelegrambotapi\n",
            "  Building wheel for pytelegrambotapi (setup.py) ... \u001b[?25l\u001b[?25hdone\n",
            "  Created wheel for pytelegrambotapi: filename=pyTelegramBotAPI-4.14.0-py3-none-any.whl size=215251 sha256=c8b140675c5f2cd3b79409cb52a834edf8e4f1726cb7b2885bb6dfde9b7d536b\n",
            "  Stored in directory: /root/.cache/pip/wheels/25/51/2d/24b40a366c85c37928d5aa36ddf257e5a79fad25e1ecd11b2c\n",
            "Successfully built pytelegrambotapi\n",
            "Installing collected packages: pytelegrambotapi\n",
            "Successfully installed pytelegrambotapi-4.14.0\n"
          ]
        }
      ],
      "source": [
        "Ы!pip install pytelegrambotapi"
      ]
    },
    {
      "cell_type": "code",
      "source": [
        "import telebot\n",
        "from telebot import types\n"
      ],
      "metadata": {
        "id": "Nld0qcDmwrF1"
      },
      "execution_count": null,
      "outputs": []
    },
    {
      "cell_type": "code",
      "source": [
        "your_bot = \"6821177958:AAE_yjaugVMc03TfTlYmmgEbO1CDQtYRLL4\" #@param {type: \"string\"}\n",
        "print(\"бот запущен\")"
      ],
      "metadata": {
        "colab": {
          "base_uri": "https://localhost:8080/"
        },
        "id": "kjUA-0Z9wzpa",
        "outputId": "4b03a500-8f3a-4f3f-a46e-7fc80231af44"
      },
      "execution_count": null,
      "outputs": [
        {
          "output_type": "stream",
          "name": "stdout",
          "text": [
            "бот запущен\n"
          ]
        }
      ]
    },
    {
      "cell_type": "code",
      "source": [
        "bot = telebot.TeleBot(your_bot)"
      ],
      "metadata": {
        "id": "LJoVvvs0yk_q"
      },
      "execution_count": null,
      "outputs": []
    },
    {
      "cell_type": "code",
      "source": [
        "text = \"я такое играть не умею(\""
      ],
      "metadata": {
        "id": "6QJcfryrD65G"
      },
      "execution_count": null,
      "outputs": []
    },
    {
      "cell_type": "code",
      "source": [
        "@bot.message_handler(commands=[\"start\"])\n",
        "def start(message):\n",
        "\n",
        "  markup=types.ReplyKeyboardMarkup(resize_keyboard=True)\n",
        "  item1=types.KeyboardButton(\"Для сна\")\n",
        "  item2=types.KeyboardButton(\"Для зала\")\n",
        "  item3=types.KeyboardButton(\"Для светских мероприятий\")\n",
        "  item4=types.KeyboardButton(\"Для учёбы\")\n",
        "  markup.row(item1, item2)\n",
        "  markup.row(item3, item4)\n",
        "  bot.send_message(message.chat.id, \"Привет, я Бард!\\nКакую музыку ты хочешь услышать?\", reply_markup=markup)\n",
        "\n",
        "@bot.message_handler(content_types=[\"text\"])\n",
        "def handle_text(message):\n",
        "\n",
        "  if message.text.strip() == \"Для сна\":\n",
        "    answer = \"https://www.youtube.com/watch?v=jWQ1q5iQy04\"\n",
        "    bot.send_message(message.chat.id, answer)\n",
        "\n",
        "  elif message.text.strip() == \"Для зала\":\n",
        "    answer = \"https://www.youtube.com/watch?v=xCVsip_JjYk\"\n",
        "    bot.send_message(message.chat.id, answer)\n",
        "\n",
        "  elif message.text.strip() == \"Для светских мероприятий\":\n",
        "    answer = \"https://www.youtube.com/watch?v=o2gGD4ewTNA\"\n",
        "    bot.send_message(message.chat.id, answer)\n",
        "\n",
        "  elif message.text.strip() == \"Для учёбы\":\n",
        "    answer = \"https://www.youtube.com/watch?v=jfKfPfyJRdk\"\n",
        "    bot.send_message(message.chat.id, answer)\n",
        "\n",
        "  else:\n",
        "    bot.send_message(message.chat.id, text)\n"
      ],
      "metadata": {
        "id": "D66JLXzs-erP"
      },
      "execution_count": null,
      "outputs": []
    },
    {
      "cell_type": "code",
      "source": [
        "bot.polling(none_stop=True, interval=0)"
      ],
      "metadata": {
        "id": "3sZHsKko92uc"
      },
      "execution_count": null,
      "outputs": []
    }
  ]
}